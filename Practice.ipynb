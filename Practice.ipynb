{
 "cells": [
  {
   "cell_type": "code",
   "execution_count": null,
   "metadata": {},
   "outputs": [],
   "source": [
    "def myfunc(text):\n",
    "    g=text.split()\n",
    "    for i in g:\n",
    "        if g[0][0].lower()==g[1][0].lower():\n",
    "            return True\n",
    "        else:\n",
    "            return False"
   ]
  },
  {
   "cell_type": "code",
   "execution_count": null,
   "metadata": {},
   "outputs": [],
   "source": [
    "myfunc('wello hi')"
   ]
  },
  {
   "cell_type": "code",
   "execution_count": null,
   "metadata": {},
   "outputs": [],
   "source": [
    "def myfunc(a):\n",
    "    if a>7:\n",
    "        g=7-a\n",
    "        res1=2*g+7\n",
    "        return res1\n",
    "    else:\n",
    "        b=7-a\n",
    "        res2=2*b+7\n",
    "        return res2\n",
    "        "
   ]
  },
  {
   "cell_type": "code",
   "execution_count": null,
   "metadata": {},
   "outputs": [],
   "source": [
    "myfunc(12)"
   ]
  },
  {
   "cell_type": "code",
   "execution_count": null,
   "metadata": {},
   "outputs": [],
   "source": [
    "def myfunc(text):\n",
    "    j=''\n",
    "    for i in text:\n",
    "        j+=text[0].capitalize()\n",
    "        j+=text[1:3]\n",
    "        j+=text[3].capitalize()\n",
    "        j+=text[4:]\n",
    "        \n",
    "        return j"
   ]
  },
  {
   "cell_type": "code",
   "execution_count": null,
   "metadata": {},
   "outputs": [],
   "source": [
    "myfunc('sumthanekar')"
   ]
  },
  {
   "cell_type": "code",
   "execution_count": null,
   "metadata": {},
   "outputs": [],
   "source": [
    "def myfunc(a):\n",
    "    j=0\n",
    "    for i in a:\n",
    "        if a[j]==3:\n",
    "            if a[j]==a[j+1]:\n",
    "                return True\n",
    "            else:\n",
    "                return False\n",
    "        \n",
    "        j+=1"
   ]
  },
  {
   "cell_type": "code",
   "execution_count": null,
   "metadata": {},
   "outputs": [],
   "source": [
    "myfunc([3,1,3])"
   ]
  },
  {
   "cell_type": "code",
   "execution_count": null,
   "metadata": {},
   "outputs": [],
   "source": [
    "def paper_doll(text):\n",
    "    j=''\n",
    "    \n",
    "    for i in text:\n",
    "        j+=i*3\n",
    "        \n",
    "          \n",
    "        \n",
    "    return j    "
   ]
  },
  {
   "cell_type": "code",
   "execution_count": null,
   "metadata": {},
   "outputs": [],
   "source": [
    "paper_doll('Hello')"
   ]
  },
  {
   "cell_type": "code",
   "execution_count": null,
   "metadata": {},
   "outputs": [],
   "source": [
    "def summer(a):\n",
    "    sum=0\n",
    "    \n",
    "    \n",
    "    for i in a:\n",
    "            while i!=6:\n",
    "                sum+=i\n",
    "                \n",
    "                 if i==6:  \n",
    "                    i+=1\n",
    "                    if i==9:\n",
    "                        i+=1\n",
    "                    else:\n",
    "                        sum+=i\n",
    "                    \n",
    "                else:\n",
    "                    sum+=i\n",
    "                    \n",
    "                    break\n",
    "            \n",
    "                \n",
    "                \n",
    "    return sum\n",
    "            \n",
    "            "
   ]
  },
  {
   "cell_type": "code",
   "execution_count": null,
   "metadata": {},
   "outputs": [],
   "source": [
    "def summer(a):\n",
    "    sum=0\n",
    "    \n",
    "    \n",
    "    for i in a:\n",
    "            while i!=6:\n",
    "                sum+=i\n",
    "                 \n",
    "                if i==6:\n",
    "                    i+=1\n",
    "                       if i==9:\n",
    "                          i+=1\n",
    "                        \n",
    "                    else:\n",
    "                        sum+=i\n",
    "                    \n",
    "                else:\n",
    "                    sum+=i\n",
    "                    break\n",
    "                   \n",
    "            \n",
    "                \n",
    "                \n",
    "    return sum\n",
    "            "
   ]
  },
  {
   "cell_type": "code",
   "execution_count": null,
   "metadata": {},
   "outputs": [],
   "source": [
    "summer([1,3,4,5,6,7,8,9,4])"
   ]
  },
  {
   "cell_type": "code",
   "execution_count": null,
   "metadata": {},
   "outputs": [],
   "source": [
    "n=int(input())\n",
    "g=input()\n",
    "a=g.split()\n",
    "l=[]\n",
    "\n",
    "for i in a:\n",
    "    l.append(int(i))\n",
    "\n",
    "    \n",
    "t=tuple(l)\n",
    "print(hash(t))\n",
    "    \n"
   ]
  },
  {
   "cell_type": "code",
   "execution_count": null,
   "metadata": {},
   "outputs": [],
   "source": [
    "n=input()\n",
    "w=int(input())\n",
    "l=[]\n",
    "\n",
    "for i in n:\n",
    "    l.append(i)\n",
    "    \n",
    "while j in range(w):\n",
    "    print(l[j],end='')"
   ]
  },
  {
   "cell_type": "code",
   "execution_count": null,
   "metadata": {},
   "outputs": [],
   "source": [
    "from collections import Counter\n",
    "\n",
    "n=int(input())\n",
    "b=[]\n",
    "sum=0\n",
    "\n",
    "for i in range(n):\n",
    "    b.append(input())\n",
    "    \n",
    "a=Counter(b)\n",
    "print(len(a.keys()))\n",
    "for c in a.values():\n",
    "    print(c,end=' ')"
   ]
  },
  {
   "cell_type": "code",
   "execution_count": null,
   "metadata": {},
   "outputs": [],
   "source": [
    "string=input()\n",
    "k=int(input())\n",
    "l=[string[i:i+k] for i in range(0, len(string), k)]\n"
   ]
  },
  {
   "cell_type": "code",
   "execution_count": null,
   "metadata": {},
   "outputs": [],
   "source": [
    "\n",
    "from collections import OrderedDict\n",
    "def merge_the_tools(string, k):\n",
    "        a=int(len(string)/k)\n",
    "        if 1<=len(string)<=10**4:\n",
    "            if 1<=k<=len(string):\n",
    "                l=[string[i:i+a] for i in range(0, len(string), a)]\n",
    "                for j in l:\n",
    "                    result = OrderedDict.j\n",
    "                    print(result)\n",
    "if __name__ == '__main__':\n",
    "    string, k = input(), int(input())\n",
    "    merge_the_tools(string, k)"
   ]
  },
  {
   "cell_type": "code",
   "execution_count": null,
   "metadata": {},
   "outputs": [],
   "source": []
  },
  {
   "cell_type": "code",
   "execution_count": null,
   "metadata": {},
   "outputs": [],
   "source": [
    "s = \"Hi there Sam!\""
   ]
  },
  {
   "cell_type": "code",
   "execution_count": null,
   "metadata": {},
   "outputs": [],
   "source": [
    "c\n",
    "b\n"
   ]
  },
  {
   "cell_type": "code",
   "execution_count": null,
   "metadata": {},
   "outputs": [],
   "source": [
    "s = \"Hi there Sam!\""
   ]
  },
  {
   "cell_type": "code",
   "execution_count": null,
   "metadata": {},
   "outputs": [],
   "source": [
    "s.split()"
   ]
  },
  {
   "cell_type": "code",
   "execution_count": null,
   "metadata": {},
   "outputs": [],
   "source": [
    "lst = [1,2,[3,4],[5,[100,200,['hello']],23,11],1,7]"
   ]
  },
  {
   "cell_type": "code",
   "execution_count": null,
   "metadata": {},
   "outputs": [],
   "source": [
    "lst[3][1][2][0]"
   ]
  },
  {
   "cell_type": "code",
   "execution_count": null,
   "metadata": {},
   "outputs": [],
   "source": [
    "d = {'k1':[1,2,3,{'tricky':['oh','man','inception',{'target':[1,2,3,'hello']}]}]}"
   ]
  },
  {
   "cell_type": "code",
   "execution_count": null,
   "metadata": {},
   "outputs": [],
   "source": [
    "d['k1'][3]['tricky'][3]['target'][3]"
   ]
  },
  {
   "cell_type": "code",
   "execution_count": 3,
   "metadata": {},
   "outputs": [],
   "source": [
    "def func(var):\n",
    "    \n",
    "        y=var.split('@')\n",
    "        print(y[1])"
   ]
  },
  {
   "cell_type": "code",
   "execution_count": 4,
   "metadata": {},
   "outputs": [
    {
     "name": "stdout",
     "output_type": "stream",
     "text": [
      "domain.com\n"
     ]
    }
   ],
   "source": [
    "func('user@domain.com')"
   ]
  },
  {
   "cell_type": "code",
   "execution_count": 9,
   "metadata": {},
   "outputs": [],
   "source": [
    "def my_func(vari):\n",
    "    if 'dog' in vari:\n",
    "        return True"
   ]
  },
  {
   "cell_type": "code",
   "execution_count": 10,
   "metadata": {},
   "outputs": [],
   "source": [
    "my_func('Is there a here?')"
   ]
  },
  {
   "cell_type": "code",
   "execution_count": 11,
   "metadata": {},
   "outputs": [],
   "source": [
    "def my_func(vari):\n",
    "    if 'dog' in vari:\n",
    "        return True"
   ]
  },
  {
   "cell_type": "code",
   "execution_count": 12,
   "metadata": {},
   "outputs": [],
   "source": [
    "my_func('Is there a here?')"
   ]
  },
  {
   "cell_type": "code",
   "execution_count": 13,
   "metadata": {},
   "outputs": [
    {
     "data": {
      "text/plain": [
       "['soup', 'salad']"
      ]
     },
     "execution_count": 13,
     "metadata": {},
     "output_type": "execute_result"
    }
   ],
   "source": [
    "seq = ['soup','dog','salad','cat','great']\n",
    "list(filter(lambda num:num[0]=='s',seq))"
   ]
  },
  {
   "cell_type": "code",
   "execution_count": 2,
   "metadata": {},
   "outputs": [
    {
     "data": {
      "text/plain": [
       "0"
      ]
     },
     "execution_count": 2,
     "metadata": {},
     "output_type": "execute_result"
    }
   ],
   "source": [
    "import numpy as np\n",
    "a=np.array([0,1])\n",
    "\n",
    "b=np.array([1,0])\n",
    "\n",
    "np.dot(a,b)"
   ]
  },
  {
   "cell_type": "code",
   "execution_count": null,
   "metadata": {},
   "outputs": [],
   "source": []
  }
 ],
 "metadata": {
  "kernelspec": {
   "display_name": "Python 3",
   "language": "python",
   "name": "python3"
  },
  "language_info": {
   "codemirror_mode": {
    "name": "ipython",
    "version": 3
   },
   "file_extension": ".py",
   "mimetype": "text/x-python",
   "name": "python",
   "nbconvert_exporter": "python",
   "pygments_lexer": "ipython3",
   "version": "3.7.6"
  }
 },
 "nbformat": 4,
 "nbformat_minor": 2
}
