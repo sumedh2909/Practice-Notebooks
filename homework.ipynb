{
 "cells": [
  {
   "cell_type": "code",
   "execution_count": null,
   "metadata": {},
   "outputs": [],
   "source": [
    "class Line:\n",
    "    def __init__(self,coor1,coor2):\n",
    "        self.coor1= coor1[0],coor1[1]\n",
    "        self.coor2= coor2[0],coor2[1]\n",
    "    \n",
    "    def distance(self):\n",
    "        return ((self.coor2[0]-self.coor1[0])**2+(self.coor2[1]-self.coor1[1])**2)**0.5            \n",
    "    \n",
    "    def slope(self):            \n",
    "        return ((self.coor2[0]-self.coor1[0])/(self.coor2[1]-self.coor1[1]))"
   ]
  },
  {
   "cell_type": "code",
   "execution_count": null,
   "metadata": {},
   "outputs": [],
   "source": [
    "class Cylinder:\n",
    "        pi = 3.14\n",
    "        def __init__(self,radius=1,height=1):\n",
    "            self.radius= radius\n",
    "            self.height= height\n",
    "        \n",
    "        def volume(self):\n",
    "            return self.pi* ((self.radius)**2) * self.height\n",
    "    \n",
    "    \n",
    "        def surface_area(self):\n",
    "            return 2*self.pi*self.radius*(self.height+self.radius)"
   ]
  },
  {
   "cell_type": "code",
   "execution_count": null,
   "metadata": {},
   "outputs": [],
   "source": [
    "c=Cylinder(3,2)"
   ]
  },
  {
   "cell_type": "code",
   "execution_count": null,
   "metadata": {},
   "outputs": [],
   "source": [
    "c.volume()"
   ]
  },
  {
   "cell_type": "code",
   "execution_count": null,
   "metadata": {},
   "outputs": [],
   "source": [
    "c.surface_area()"
   ]
  },
  {
   "cell_type": "code",
   "execution_count": null,
   "metadata": {},
   "outputs": [],
   "source": [
    "co1=(3,2)\n",
    "co2=(8,10)\n",
    "\n",
    "g=Line(co1,co2)"
   ]
  },
  {
   "cell_type": "code",
   "execution_count": null,
   "metadata": {},
   "outputs": [],
   "source": [
    "g.distance()"
   ]
  },
  {
   "cell_type": "code",
   "execution_count": null,
   "metadata": {},
   "outputs": [],
   "source": [
    "g.slope()"
   ]
  },
  {
   "cell_type": "code",
   "execution_count": null,
   "metadata": {},
   "outputs": [],
   "source": []
  },
  {
   "cell_type": "code",
   "execution_count": null,
   "metadata": {},
   "outputs": [],
   "source": []
  },
  {
   "cell_type": "code",
   "execution_count": null,
   "metadata": {},
   "outputs": [],
   "source": []
  },
  {
   "cell_type": "code",
   "execution_count": null,
   "metadata": {},
   "outputs": [],
   "source": []
  },
  {
   "cell_type": "code",
   "execution_count": null,
   "metadata": {},
   "outputs": [],
   "source": []
  },
  {
   "cell_type": "code",
   "execution_count": null,
   "metadata": {},
   "outputs": [],
   "source": [
    "class Account:\n",
    "    \n",
    "    def __init__(self,owner,balance):\n",
    "        self.owner= owner\n",
    "        self.balance= balance\n",
    "\n",
    "        \n",
    "             \n",
    "    def deposit(self,i):\n",
    "            if i!=0:\n",
    "                \n",
    "                result= i + self.balance\n",
    "                print('Deposit accepted. The new balance is {}'.format(result)) \n",
    "            \n",
    "    def withdraw(self,j):\n",
    "        if j>self.balance:\n",
    "            return \"Limit Exceeded\"\n",
    "        else:\n",
    "            result1= self.balance-j\n",
    "            return \"Withdrawal Accepted. The new balance is {}\".format(result1)\n",
    "    def __str__(self):\n",
    "        return 'Account Owner: {} \\nAccount Balance: {}'.format(self.owner,self.balance) \n",
    "       "
   ]
  },
  {
   "cell_type": "code",
   "execution_count": null,
   "metadata": {},
   "outputs": [],
   "source": [
    "acnt=Account('Sumedh',100)"
   ]
  },
  {
   "cell_type": "code",
   "execution_count": null,
   "metadata": {},
   "outputs": [],
   "source": [
    "print(acnt)"
   ]
  },
  {
   "cell_type": "code",
   "execution_count": null,
   "metadata": {},
   "outputs": [],
   "source": [
    "acnt.balance\n"
   ]
  },
  {
   "cell_type": "code",
   "execution_count": null,
   "metadata": {},
   "outputs": [],
   "source": [
    "acnt.owner"
   ]
  },
  {
   "cell_type": "code",
   "execution_count": null,
   "metadata": {},
   "outputs": [],
   "source": [
    "acnt.deposit(50)"
   ]
  },
  {
   "cell_type": "code",
   "execution_count": null,
   "metadata": {},
   "outputs": [],
   "source": [
    "acnt.withdraw(75)"
   ]
  },
  {
   "cell_type": "code",
   "execution_count": null,
   "metadata": {},
   "outputs": [],
   "source": [
    "acnt.withdraw(500)"
   ]
  },
  {
   "cell_type": "code",
   "execution_count": null,
   "metadata": {},
   "outputs": [],
   "source": []
  },
  {
   "cell_type": "code",
   "execution_count": null,
   "metadata": {},
   "outputs": [],
   "source": [
    "len('abcdef')"
   ]
  },
  {
   "cell_type": "code",
   "execution_count": null,
   "metadata": {},
   "outputs": [],
   "source": []
  },
  {
   "cell_type": "code",
   "execution_count": null,
   "metadata": {},
   "outputs": [],
   "source": [
    "def myfunc(a):\n",
    "    j=0\n",
    "    l=''\n",
    "    for i in a:\n",
    "        if j%2==0:\n",
    "            \n",
    "            l+=a[j].lower()\n",
    "            \n",
    "        else:\n",
    "            \n",
    "            l+=a[j].upper()\n",
    "        j+=1\n",
    "        \n",
    "       \n",
    "    print(l)   "
   ]
  },
  {
   "cell_type": "code",
   "execution_count": null,
   "metadata": {},
   "outputs": [],
   "source": [
    "myfunc('Anthromorphism')"
   ]
  },
  {
   "cell_type": "code",
   "execution_count": null,
   "metadata": {},
   "outputs": [],
   "source": []
  },
  {
   "cell_type": "code",
   "execution_count": null,
   "metadata": {},
   "outputs": [],
   "source": []
  },
  {
   "cell_type": "code",
   "execution_count": null,
   "metadata": {},
   "outputs": [],
   "source": []
  },
  {
   "cell_type": "code",
   "execution_count": null,
   "metadata": {},
   "outputs": [],
   "source": [
    "def myfunc(x):\n",
    "    result_string = \"\"\n",
    "    index = 0;\n",
    "    for c in x:\n",
    "            if(index%2 == 0):\n",
    "                result_string += c.lower()\n",
    "            else:\n",
    "                result_string += c.upper()\n",
    "    index+=1\n",
    "\n",
    "    print(result_string)"
   ]
  },
  {
   "cell_type": "code",
   "execution_count": null,
   "metadata": {},
   "outputs": [],
   "source": [
    "myfunc('seMi Long StRing WiTH COMPLetely RaNDOM CasINg')"
   ]
  },
  {
   "cell_type": "code",
   "execution_count": null,
   "metadata": {},
   "outputs": [],
   "source": [
    "def fibon(n):\n",
    "    a=1\n",
    "    b=1\n",
    "    for i in range(n):\n",
    "             a,b=b,a+b\n",
    "             print(a)   \n",
    "    "
   ]
  },
  {
   "cell_type": "code",
   "execution_count": null,
   "metadata": {},
   "outputs": [],
   "source": [
    "fibon(20)"
   ]
  },
  {
   "cell_type": "code",
   "execution_count": null,
   "metadata": {},
   "outputs": [],
   "source": [
    "def square(n):\n",
    "    for i in range(n):\n",
    "        yield i**2"
   ]
  },
  {
   "cell_type": "code",
   "execution_count": null,
   "metadata": {},
   "outputs": [],
   "source": [
    "for x in square(5):\n",
    "    print(x)"
   ]
  },
  {
   "cell_type": "code",
   "execution_count": null,
   "metadata": {},
   "outputs": [],
   "source": [
    "import random\n",
    "\n",
    "random.randint(1,10)"
   ]
  },
  {
   "cell_type": "code",
   "execution_count": null,
   "metadata": {},
   "outputs": [],
   "source": [
    "def random_num(low,high,n):\n",
    "    for i in range(n):\n",
    "        yield random.randint(low,high)"
   ]
  },
  {
   "cell_type": "code",
   "execution_count": null,
   "metadata": {},
   "outputs": [],
   "source": []
  },
  {
   "cell_type": "code",
   "execution_count": null,
   "metadata": {},
   "outputs": [],
   "source": [
    "for num in random_num(1,10,4):\n",
    "    print(num)"
   ]
  },
  {
   "cell_type": "code",
   "execution_count": null,
   "metadata": {},
   "outputs": [],
   "source": []
  },
  {
   "cell_type": "code",
   "execution_count": null,
   "metadata": {},
   "outputs": [],
   "source": []
  },
  {
   "cell_type": "code",
   "execution_count": null,
   "metadata": {},
   "outputs": [],
   "source": []
  },
  {
   "cell_type": "code",
   "execution_count": null,
   "metadata": {},
   "outputs": [],
   "source": []
  },
  {
   "cell_type": "code",
   "execution_count": null,
   "metadata": {},
   "outputs": [],
   "source": []
  },
  {
   "cell_type": "code",
   "execution_count": null,
   "metadata": {},
   "outputs": [],
   "source": [
    "s='hello'"
   ]
  },
  {
   "cell_type": "code",
   "execution_count": null,
   "metadata": {},
   "outputs": [],
   "source": [
    "s_iter= iter(s)"
   ]
  },
  {
   "cell_type": "code",
   "execution_count": null,
   "metadata": {},
   "outputs": [],
   "source": [
    "print(next(s_iter))"
   ]
  },
  {
   "cell_type": "code",
   "execution_count": null,
   "metadata": {},
   "outputs": [],
   "source": [
    "l=[]\n",
    "d=[]\n",
    "n=int(input())\n",
    "\n",
    "\n",
    "\n",
    "for i in range(n):\n",
    "    name = input()\n",
    "    score = float(input())\n",
    "    l.append([name,score])\n",
    "for a,b in l:\n",
    "    d.append(min(l(score)))\n",
    "print(d)     \n",
    "    \n",
    "\n"
   ]
  },
  {
   "cell_type": "code",
   "execution_count": null,
   "metadata": {},
   "outputs": [],
   "source": [
    "l=[]\n",
    "d=[]\n",
    "j=[]\n",
    "n=int(input())\n",
    "\n",
    "for i in range(n):\n",
    "        name = input()\n",
    "        score = float(input())\n",
    "        l.append([name,score])\n",
    "for a in l:\n",
    "        d.append([min(l)[1]])\n",
    "        \n",
    "print(d)\n",
    "        #for s in l:\n",
    "            #j.append(min(l)[1])\n",
    "        #print(j[0])\n",
    "\n",
    "    "
   ]
  },
  {
   "cell_type": "code",
   "execution_count": null,
   "metadata": {},
   "outputs": [],
   "source": [
    "bin(1024)"
   ]
  },
  {
   "cell_type": "code",
   "execution_count": null,
   "metadata": {},
   "outputs": [],
   "source": [
    "hex(1024)"
   ]
  },
  {
   "cell_type": "code",
   "execution_count": null,
   "metadata": {},
   "outputs": [],
   "source": [
    "round(5.23222,2)"
   ]
  },
  {
   "cell_type": "code",
   "execution_count": null,
   "metadata": {},
   "outputs": [],
   "source": [
    "s='hello how are you?'"
   ]
  },
  {
   "cell_type": "code",
   "execution_count": null,
   "metadata": {},
   "outputs": [],
   "source": [
    "s.islower()"
   ]
  },
  {
   "cell_type": "code",
   "execution_count": null,
   "metadata": {},
   "outputs": [],
   "source": [
    "s.count('h')"
   ]
  },
  {
   "cell_type": "code",
   "execution_count": null,
   "metadata": {},
   "outputs": [],
   "source": [
    "{x:x**3 for x in range(5)}"
   ]
  },
  {
   "cell_type": "code",
   "execution_count": null,
   "metadata": {},
   "outputs": [],
   "source": [
    "n=int(input())\n",
    "l=[]\n",
    "for i in range(n):\n",
    "    data=input()\n",
    "    l.append(data)\n",
    "    \n",
    "for a in l:\n",
    "    if ==name:\n",
    "        avg=l[a][]\n",
    "\n",
    "\n",
    "\n"
   ]
  },
  {
   "cell_type": "code",
   "execution_count": null,
   "metadata": {},
   "outputs": [],
   "source": [
    "n=int(input())\n",
    "\n",
    "l=[]\n",
    "for i in range(n):\n",
    "    data=input()\n",
    "    l.append(data)\n",
    "    \n",
    "for a in l:\n",
    "    if l[a][0]==data(0):\n",
    "           avg=(l[a][1]+l[a][2]+l[a][3])/3"
   ]
  },
  {
   "cell_type": "code",
   "execution_count": null,
   "metadata": {},
   "outputs": [],
   "source": [
    "from ipywidgets import interact,interactive,fixed\n",
    "import ipywidgets as widgets"
   ]
  },
  {
   "cell_type": "code",
   "execution_count": null,
   "metadata": {},
   "outputs": [],
   "source": [
    "def func(x):\n",
    "    return x"
   ]
  },
  {
   "cell_type": "code",
   "execution_count": null,
   "metadata": {},
   "outputs": [],
   "source": [
    "interact(func,x=10)"
   ]
  },
  {
   "cell_type": "code",
   "execution_count": 28,
   "metadata": {},
   "outputs": [],
   "source": [
    "def swap_case(s):\n",
    "    d=[]\n",
    "    j=0\n",
    "    if 0<len(s)<=1000:\n",
    "        for i in s:\n",
    "            if s[j]==s[j].upper():\n",
    "                d.append(s[j].lower())\n",
    "            else:\n",
    "                d.append(s[j].upper())\n",
    "            j+=1\n",
    "    print(\"\".join(d))"
   ]
  },
  {
   "cell_type": "code",
   "execution_count": 29,
   "metadata": {},
   "outputs": [
    {
     "name": "stdout",
     "output_type": "stream",
     "text": [
      "pYTHONIST 2\n"
     ]
    }
   ],
   "source": [
    "swap_case('Pythonist 2')"
   ]
  },
  {
   "cell_type": "code",
   "execution_count": null,
   "metadata": {},
   "outputs": [],
   "source": [
    "import math\n",
    "\n",
    "n = int(input())\n",
    "student_marks = {}\n",
    "for i in range(n):\n",
    "    if 2<=n<=10:\n",
    "        name, *line = input().split()\n",
    "        scores = list(map(float, line))\n",
    "        student_marks[name] = scores\n",
    "query_name = input()\n",
    "\n",
    "for query_name in student_marks:\n",
    "    \n",
    "        avg=((sum(scores))/3)\n",
    "       \n",
    "        print (avg)"
   ]
  },
  {
   "cell_type": "code",
   "execution_count": null,
   "metadata": {},
   "outputs": [],
   "source": [
    "import math\n",
    "\n",
    "n = int(input())\n",
    "student_marks = {}\n",
    "for i in range(n):\n",
    "    if 2<=n<=10:\n",
    "        name, *line = input().split()\n",
    "        scores = list(map(float, line))\n",
    "        student_marks[name] = scores\n",
    "query_name = input()\n",
    "\n",
    "for query_name in student_marks:\n",
    "    \n",
    "        avg=((sum(scores))/3)\n",
    "       \n",
    "        print (avg)"
   ]
  },
  {
   "cell_type": "code",
   "execution_count": null,
   "metadata": {},
   "outputs": [],
   "source": []
  }
 ],
 "metadata": {
  "kernelspec": {
   "display_name": "Python 3",
   "language": "python",
   "name": "python3"
  },
  "language_info": {
   "codemirror_mode": {
    "name": "ipython",
    "version": 3
   },
   "file_extension": ".py",
   "mimetype": "text/x-python",
   "name": "python",
   "nbconvert_exporter": "python",
   "pygments_lexer": "ipython3",
   "version": "3.7.4"
  }
 },
 "nbformat": 4,
 "nbformat_minor": 2
}
