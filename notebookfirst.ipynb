{
 "cells": [
  {
   "cell_type": "markdown",
   "metadata": {},
   "source": [
    "#hello\n"
   ]
  },
  {
   "cell_type": "code",
   "execution_count": null,
   "metadata": {},
   "outputs": [],
   "source": [
    "2+3"
   ]
  },
  {
   "cell_type": "code",
   "execution_count": null,
   "metadata": {},
   "outputs": [],
   "source": [
    "23%2"
   ]
  },
  {
   "cell_type": "code",
   "execution_count": null,
   "metadata": {},
   "outputs": [],
   "source": [
    "5**2"
   ]
  },
  {
   "cell_type": "code",
   "execution_count": null,
   "metadata": {},
   "outputs": [],
   "source": [
    "int=4\n"
   ]
  },
  {
   "cell_type": "code",
   "execution_count": null,
   "metadata": {},
   "outputs": [],
   "source": []
  },
  {
   "cell_type": "code",
   "execution_count": null,
   "metadata": {},
   "outputs": [],
   "source": [
    "my_income= 157\n",
    "\n",
    "my_tax = 0.2\n",
    "\n",
    "my_total= my_income* my_tax\n"
   ]
  },
  {
   "cell_type": "code",
   "execution_count": null,
   "metadata": {},
   "outputs": [],
   "source": [
    "my_total"
   ]
  },
  {
   "cell_type": "code",
   "execution_count": null,
   "metadata": {},
   "outputs": [],
   "source": [
    "hello\n"
   ]
  },
  {
   "cell_type": "code",
   "execution_count": null,
   "metadata": {},
   "outputs": [],
   "source": [
    "'hello'"
   ]
  },
  {
   "cell_type": "code",
   "execution_count": null,
   "metadata": {},
   "outputs": [],
   "source": [
    "print('hello')"
   ]
  },
  {
   "cell_type": "code",
   "execution_count": null,
   "metadata": {},
   "outputs": [],
   "source": [
    "s='hello my name is sumedh'"
   ]
  },
  {
   "cell_type": "code",
   "execution_count": null,
   "metadata": {},
   "outputs": [],
   "source": [
    "s.split()"
   ]
  },
  {
   "cell_type": "code",
   "execution_count": null,
   "metadata": {},
   "outputs": [],
   "source": []
  },
  {
   "cell_type": "code",
   "execution_count": null,
   "metadata": {},
   "outputs": [],
   "source": [
    "n=int(input())\n",
    "l=[]\n",
    "for i in range(n):\n",
    "    s=input()\n",
    "    l.append(s)\n",
    "y=list(set(l))\n",
    "print(y.count(element))"
   ]
  },
  {
   "cell_type": "code",
   "execution_count": null,
   "metadata": {},
   "outputs": [],
   "source": [
    "N=int(input())\n",
    "quant=input().split()\n",
    "lab=input().split()\n",
    "q=[]\n",
    "l=[]\n",
    "v=0\n",
    "g=[]\n",
    "for i in quant:\n",
    "    q.append(i)\n",
    "for j in lab:\n",
    "    l.append(j)\n",
    "\n",
    "\n",
    "res = [int(v) / int(c) for c, v in zip(q,l)]\n",
    "print(int(min(res)))\n",
    "\n",
    "    "
   ]
  },
  {
   "cell_type": "code",
   "execution_count": 4,
   "metadata": {},
   "outputs": [
    {
     "name": "stdout",
     "output_type": "stream",
     "text": [
      "1\n",
      "10\n",
      "3 6 7 5 3 5 6 2 9 1\n",
      "3 6 7 5 3 5 6 2 9 1\n",
      "3\n"
     ]
    }
   ],
   "source": [
    "N=int(input())\n",
    "p=int(input())\n",
    "for k in range(N):\n",
    "    \n",
    "    g=input().split()\n",
    "    o=input().split()\n",
    "\n",
    "q=[]\n",
    "l=[]\n",
    "sum=0\n",
    "r=0\n",
    "for i in g:\n",
    "    q.append(i)\n",
    "for j in o:\n",
    "    l.append(j)\n",
    "q.sort()\n",
    "l.sort()\n",
    "for w in range(N):\n",
    "    for c,v in zip(q,l):\n",
    "        if c>v:\n",
    "            sum+=1\n",
    "        else:\n",
    "            q=q[::-1]\n",
    "        \n",
    "            if q[r]>v:\n",
    "                sum+=1\n",
    "                r+=1\n",
    "            else:\n",
    "            \n",
    "                pass\n",
    "    print(sum)\n",
    "\n",
    "        \n",
    "\n",
    "\n",
    "    \n"
   ]
  },
  {
   "cell_type": "code",
   "execution_count": 10,
   "metadata": {},
   "outputs": [
    {
     "name": "stdout",
     "output_type": "stream",
     "text": [
      "1\n",
      "10\n",
      "3 6 7 5 3 5 6 2 9 1\n",
      "2 7 0 9 3 6 0 6 2 6 \n",
      "7\n"
     ]
    }
   ],
   "source": [
    "N=int(input())\n",
    "p=int(input())\n",
    "for k in range(N):\n",
    "    \n",
    "    g=input().split()\n",
    "    o=input().split()\n",
    "\n",
    "q=[]\n",
    "l=[]\n",
    "sum=0\n",
    "w=[]\n",
    "r=0\n",
    "for i in g:\n",
    "    q.append(i)\n",
    "for j in o:\n",
    "    l.append(j)\n",
    "q.sort()\n",
    "l.sort()\n",
    "\n",
    "for s in range(N):\n",
    "    for c,v in zip(q,l):\n",
    "        if c>v:\n",
    "            sum+=1\n",
    "        else:\n",
    "            q=q[::-1]\n",
    "            for t in q:\n",
    "        \n",
    "                if t>v:\n",
    "                    sum+=1\n",
    "                \n",
    "                \n",
    "                else:\n",
    "            \n",
    "                    pass\n",
    "            #r+=1\n",
    "    w.append(sum)\n",
    "for m in w:\n",
    "    print(m)"
   ]
  },
  {
   "cell_type": "code",
   "execution_count": 1,
   "metadata": {},
   "outputs": [
    {
     "name": "stdout",
     "output_type": "stream",
     "text": [
      "1\n",
      "3\n",
      "20 30 50\n",
      "60 40 25\n",
      "0\n"
     ]
    }
   ],
   "source": [
    "N=int(input())\n",
    "p=int(input())\n",
    "for k in range(N):\n",
    "    \n",
    "    g=input().split()\n",
    "    o=input().split()\n",
    "\n",
    "q=[]\n",
    "l=[]\n",
    "\n",
    "w=[]\n",
    "r=1\n",
    "for i in g:\n",
    "    q.append(i)\n",
    "for j in o:\n",
    "    l.append(j)\n",
    "q.sort()\n",
    "l.sort()\n",
    "\n",
    "for s in range(N):\n",
    "    sum=0\n",
    "    for v in l:\n",
    "        for c in q:\n",
    "            if c>v:\n",
    "                sum+=1\n",
    "            else:\n",
    "                break\n",
    "            \n",
    "                \n",
    "            \n",
    "                \n",
    "                \n",
    "            \n",
    "                \n",
    "            \n",
    "           \n",
    "    w.append(sum)\n",
    "for m in w:\n",
    "    print(m)"
   ]
  },
  {
   "cell_type": "code",
   "execution_count": 1,
   "metadata": {},
   "outputs": [
    {
     "ename": "IndentationError",
     "evalue": "expected an indented block (<ipython-input-1-e34657f9b0b3>, line 25)",
     "output_type": "error",
     "traceback": [
      "\u001b[1;36m  File \u001b[1;32m\"<ipython-input-1-e34657f9b0b3>\"\u001b[1;36m, line \u001b[1;32m25\u001b[0m\n\u001b[1;33m    w.append(sum)\u001b[0m\n\u001b[1;37m    ^\u001b[0m\n\u001b[1;31mIndentationError\u001b[0m\u001b[1;31m:\u001b[0m expected an indented block\n"
     ]
    }
   ],
   "source": [
    "N=int(input())\n",
    "p=int(input())\n",
    "for k in range(N):\n",
    "    \n",
    "    g=input().split()\n",
    "    o=input().split()\n",
    "\n",
    "q=[]\n",
    "l=[]\n",
    "\n",
    "w=[]\n",
    "r=0\n",
    "for i in g:\n",
    "    q.append(i)\n",
    "for j in o:\n",
    "    l.append(j)\n",
    "q.sort()\n",
    "l.sort()\n",
    "\n",
    "for s in range(N):\n",
    "    sum=0\n",
    "    if q[r]>l[r]:\n",
    "            \n",
    "           \n",
    "    w.append(sum)\n",
    "for m in w:\n",
    "    print(m)"
   ]
  },
  {
   "cell_type": "code",
   "execution_count": 3,
   "metadata": {},
   "outputs": [
    {
     "name": "stdout",
     "output_type": "stream",
     "text": [
      "x= 2  y= 2\n"
     ]
    }
   ],
   "source": [
    "class Points(object):\n",
    "\n",
    "    def __init__(self,x,y):\n",
    "\n",
    "        self.x=x\n",
    "\n",
    "        self.y=y\n",
    "\n",
    "    def print_point(self):\n",
    "\n",
    "        print('x=',self.x,' y=',self.y)\n",
    "\n",
    "p2=Points(1,2)\n",
    "\n",
    "p2.x=2\n",
    "\n",
    "p2.print_point()"
   ]
  },
  {
   "cell_type": "code",
   "execution_count": null,
   "metadata": {},
   "outputs": [],
   "source": []
  }
 ],
 "metadata": {
  "kernelspec": {
   "display_name": "Python 3",
   "language": "python",
   "name": "python3"
  },
  "language_info": {
   "codemirror_mode": {
    "name": "ipython",
    "version": 3
   },
   "file_extension": ".py",
   "mimetype": "text/x-python",
   "name": "python",
   "nbconvert_exporter": "python",
   "pygments_lexer": "ipython3",
   "version": "3.7.6"
  }
 },
 "nbformat": 4,
 "nbformat_minor": 2
}
